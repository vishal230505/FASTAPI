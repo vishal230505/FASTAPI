{
  "nbformat": 4,
  "nbformat_minor": 0,
  "metadata": {
    "colab": {
      "provenance": []
    },
    "kernelspec": {
      "name": "python3",
      "display_name": "Python 3"
    },
    "language_info": {
      "name": "python"
    }
  },
  "cells": [
    {
      "cell_type": "code",
      "execution_count": null,
      "metadata": {
        "id": "9pTbk4P5xNrW"
      },
      "outputs": [],
      "source": [
        "fastapi\n",
        "uvicorn\n",
        "pandas\n",
        "numpy\n",
        "scikit-learn\n",
        "tensorflow==2.13.0\n",
        "transformers\n",
        "joblib\n",
        "pillow\n",
        "pytesseract\n",
        "requests\n",
        "python-multipart\n"
      ]
    }
  ]
}